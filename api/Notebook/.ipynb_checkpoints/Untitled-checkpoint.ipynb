{
 "cells": [
  {
   "cell_type": "markdown",
   "id": "7afc2417",
   "metadata": {},
   "source": [
    "## requirements:\n",
    "1. Match_ID\n",
    "2. Date\n",
    "3. Venue\n",
    "4. Batting_Team\n",
    "5. Bowling_Team\n",
    "6. Batsmen\n",
    "7. Bowler\n",
    "8. Overs\n",
    "9. Runs\n",
    "10. Wickets\n",
    "11. Runs_Last_5_Over     #Separate Function\n",
    "12. Wickets_Last_5_Over  #Separate Function\n",
    "13. Striker_Run\n",
    "14. Non_Striker_Run\n",
    "15. Bowler_Wicket\n",
    "16. Bowlers_Run_Conceeded\n",
    "17. Total_Run\n",
    "18. Winner\n",
    "\n",
    "\n",
    "Web_Scape columns in csv format"
   ]
  },
  {
   "cell_type": "code",
   "execution_count": 1,
   "id": "d7958c41",
   "metadata": {},
   "outputs": [],
   "source": [
    "import pandas as pd\n",
    "import requests\n",
    "from bs4 import BeautifulSoup as bs"
   ]
  },
  {
   "cell_type": "markdown",
   "id": "6d5c8ec2",
   "metadata": {},
   "source": [
    "url Style:https://www.espncricinfo.com/series/indian-premier-league-2007-08-313494/royal-challengers-bangalore-vs-kolkata-knight-riders-1st-match-335982/ball-by-ball-commentary\n"
   ]
  },
  {
   "cell_type": "code",
   "execution_count": 24,
   "id": "a77ede12",
   "metadata": {},
   "outputs": [
    {
     "data": {
      "text/plain": [
       "bs4.element.ResultSet"
      ]
     },
     "execution_count": 24,
     "metadata": {},
     "output_type": "execute_result"
    }
   ],
   "source": [
    "temp_url = \"https://www.espncricinfo.com/series/indian-premier-league-2009-374163/match-schedule-fixtures-and-results\"\n",
    "req = requests.get(temp_url)\n",
    "\n",
    "soup = bs(req.content, 'html5lib')\n",
    "project_href = [i['href'] for i in soup.find_all('a', href=True)]\n"
   ]
  },
  {
   "cell_type": "code",
   "execution_count": 49,
   "id": "0e21d360",
   "metadata": {},
   "outputs": [
    {
     "data": {
      "text/plain": [
       "{'/series/indian-premier-league-2009-374163/chennai-super-kings-vs-deccan-chargers-16th-match-392196/full-scorecard',\n",
       " '/series/indian-premier-league-2009-374163/chennai-super-kings-vs-deccan-chargers-29th-match-392209/full-scorecard',\n",
       " '/series/indian-premier-league-2009-374163/chennai-super-kings-vs-delhi-daredevils-26th-match-392206/full-scorecard',\n",
       " '/series/indian-premier-league-2009-374163/chennai-super-kings-vs-delhi-daredevils-9th-match-392189/full-scorecard',\n",
       " '/series/indian-premier-league-2009-374163/chennai-super-kings-vs-kings-xi-punjab-34th-match-392214/full-scorecard',\n",
       " '/series/indian-premier-league-2009-374163/chennai-super-kings-vs-kings-xi-punjab-54th-match-392234/full-scorecard',\n",
       " '/series/indian-premier-league-2009-374163/chennai-super-kings-vs-kolkata-knight-riders-13th-match-392193/full-scorecard',\n",
       " '/series/indian-premier-league-2009-374163/chennai-super-kings-vs-kolkata-knight-riders-51st-match-392231/full-scorecard',\n",
       " '/series/indian-premier-league-2009-374163/chennai-super-kings-vs-mumbai-indians-1st-match-392181/full-scorecard',\n",
       " '/series/indian-premier-league-2009-374163/chennai-super-kings-vs-mumbai-indians-47th-match-392227/full-scorecard',\n",
       " '/series/indian-premier-league-2009-374163/chennai-super-kings-vs-rajasthan-royals-22nd-match-392202/full-scorecard',\n",
       " '/series/indian-premier-league-2009-374163/chennai-super-kings-vs-rajasthan-royals-37th-match-392217/full-scorecard',\n",
       " '/series/indian-premier-league-2009-374163/chennai-super-kings-vs-royal-challengers-bangalore-2nd-semi-final-392238/full-scorecard',\n",
       " '/series/indian-premier-league-2009-374163/deccan-chargers-vs-delhi-daredevils-1st-semi-final-392237/full-scorecard',\n",
       " '/series/indian-premier-league-2009-374163/deccan-chargers-vs-delhi-daredevils-21st-match-392201/full-scorecard',\n",
       " '/series/indian-premier-league-2009-374163/deccan-chargers-vs-delhi-daredevils-43rd-match-392223/full-scorecard',\n",
       " '/series/indian-premier-league-2009-374163/deccan-chargers-vs-kings-xi-punjab-36th-match-392216/full-scorecard',\n",
       " '/series/indian-premier-league-2009-374163/deccan-chargers-vs-kings-xi-punjab-49th-match-392229/full-scorecard',\n",
       " '/series/indian-premier-league-2009-374163/deccan-chargers-vs-kolkata-knight-riders-48th-match-392228/full-scorecard',\n",
       " '/series/indian-premier-league-2009-374163/deccan-chargers-vs-kolkata-knight-riders-4th-match-392184/full-scorecard',\n",
       " '/series/indian-premier-league-2009-374163/deccan-chargers-vs-mumbai-indians-12th-match-392192/full-scorecard',\n",
       " '/series/indian-premier-league-2009-374163/deccan-chargers-vs-mumbai-indians-32nd-match-392212/full-scorecard',\n",
       " '/series/indian-premier-league-2009-374163/deccan-chargers-vs-rajasthan-royals-25th-match-392205/full-scorecard',\n",
       " '/series/indian-premier-league-2009-374163/deccan-chargers-vs-rajasthan-royals-40th-match-392220/full-scorecard',\n",
       " '/series/indian-premier-league-2009-374163/deccan-chargers-vs-royal-challengers-bangalore-final-392239/full-scorecard',\n",
       " '/series/indian-premier-league-2009-374163/delhi-daredevils-vs-kings-xi-punjab-3rd-match-392183/full-scorecard',\n",
       " '/series/indian-premier-league-2009-374163/delhi-daredevils-vs-kings-xi-punjab-46th-match-392226/full-scorecard',\n",
       " '/series/indian-premier-league-2009-374163/delhi-daredevils-vs-kolkata-knight-riders-31st-match-392211/full-scorecard',\n",
       " '/series/indian-premier-league-2009-374163/delhi-daredevils-vs-kolkata-knight-riders-39th-match-392219/full-scorecard',\n",
       " '/series/indian-premier-league-2009-374163/delhi-daredevils-vs-mumbai-indians-35th-match-392215/full-scorecard',\n",
       " '/series/indian-premier-league-2009-374163/delhi-daredevils-vs-mumbai-indians-55th-match-392235/full-scorecard',\n",
       " '/series/indian-premier-league-2009-374163/delhi-daredevils-vs-rajasthan-royals-18th-match-392198/full-scorecard',\n",
       " '/series/indian-premier-league-2009-374163/delhi-daredevils-vs-rajasthan-royals-50th-match-392230/full-scorecard',\n",
       " '/series/indian-premier-league-2009-374163/kings-xi-punjab-vs-kolkata-knight-riders-27th-match-392207/full-scorecard',\n",
       " '/series/indian-premier-league-2009-374163/kings-xi-punjab-vs-kolkata-knight-riders-6th-match-392186/full-scorecard',\n",
       " '/series/indian-premier-league-2009-374163/kings-xi-punjab-vs-mumbai-indians-20th-match-392200/full-scorecard',\n",
       " '/series/indian-premier-league-2009-374163/kings-xi-punjab-vs-mumbai-indians-42nd-match-392222/full-scorecard',\n",
       " '/series/indian-premier-league-2009-374163/kings-xi-punjab-vs-rajasthan-royals-15th-match-392195/full-scorecard',\n",
       " '/series/indian-premier-league-2009-374163/kings-xi-punjab-vs-rajasthan-royals-30th-match-392210/full-scorecard',\n",
       " '/series/indian-premier-league-2009-374163/kolkata-knight-riders-vs-mumbai-indians-17th-match-392197/full-scorecard',\n",
       " '/series/indian-premier-league-2009-374163/kolkata-knight-riders-vs-mumbai-indians-23rd-match-392203/full-scorecard',\n",
       " '/series/indian-premier-league-2009-374163/kolkata-knight-riders-vs-rajasthan-royals-10th-match-392190/full-scorecard',\n",
       " '/series/indian-premier-league-2009-374163/kolkata-knight-riders-vs-rajasthan-royals-53rd-match-392233/full-scorecard',\n",
       " '/series/indian-premier-league-2009-374163/mumbai-indians-vs-rajasthan-royals-45th-match-392225/full-scorecard',\n",
       " '/series/indian-premier-league-2009-374163/mumbai-indians-vs-rajasthan-royals-7th-match-392187/full-scorecard',\n",
       " '/series/indian-premier-league-2009-374163/royal-challengers-bangalore-vs-chennai-super-kings-44th-match-392224/full-scorecard',\n",
       " '/series/indian-premier-league-2009-374163/royal-challengers-bangalore-vs-chennai-super-kings-5th-match-392185/full-scorecard',\n",
       " '/series/indian-premier-league-2009-374163/royal-challengers-bangalore-vs-deccan-chargers-56th-match-392236/full-scorecard',\n",
       " '/series/indian-premier-league-2009-374163/royal-challengers-bangalore-vs-deccan-chargers-8th-match-392188/full-scorecard',\n",
       " '/series/indian-premier-league-2009-374163/royal-challengers-bangalore-vs-delhi-daredevils-14th-match-392194/full-scorecard',\n",
       " '/series/indian-premier-league-2009-374163/royal-challengers-bangalore-vs-delhi-daredevils-52nd-match-392232/full-scorecard',\n",
       " '/series/indian-premier-league-2009-374163/royal-challengers-bangalore-vs-kings-xi-punjab-11th-match-392191/full-scorecard',\n",
       " '/series/indian-premier-league-2009-374163/royal-challengers-bangalore-vs-kings-xi-punjab-24th-match-392204/full-scorecard',\n",
       " '/series/indian-premier-league-2009-374163/royal-challengers-bangalore-vs-kolkata-knight-riders-19th-match-392199/full-scorecard',\n",
       " '/series/indian-premier-league-2009-374163/royal-challengers-bangalore-vs-kolkata-knight-riders-41st-match-392221/full-scorecard',\n",
       " '/series/indian-premier-league-2009-374163/royal-challengers-bangalore-vs-mumbai-indians-28th-match-392208/full-scorecard',\n",
       " '/series/indian-premier-league-2009-374163/royal-challengers-bangalore-vs-mumbai-indians-38th-match-392218/full-scorecard',\n",
       " '/series/indian-premier-league-2009-374163/royal-challengers-bangalore-vs-rajasthan-royals-2nd-match-392182/full-scorecard',\n",
       " '/series/indian-premier-league-2009-374163/royal-challengers-bangalore-vs-rajasthan-royals-33rd-match-392213/full-scorecard'}"
      ]
     },
     "execution_count": 49,
     "metadata": {},
     "output_type": "execute_result"
    }
   ],
   "source": [
    "ipl_match = []\n",
    "check = [\"/series/indian-premier-league-2009\", \"full-scorecard\"]\n",
    "for i in project_href:\n",
    "    if \"/series/indian-premier-league-2009\" in i and  \"full-scorecard\" in i:\n",
    "        ipl_match.append(i)\n",
    "        \n",
    "matches = set(ipl_match)\n",
    "matches"
   ]
  },
  {
   "cell_type": "code",
   "execution_count": 66,
   "id": "b3972ad9",
   "metadata": {},
   "outputs": [],
   "source": [
    "def matches_url(matches:set, url):\n",
    "    req = requests.get(url)\n",
    "    if req.status_code == 200:\n",
    "        x = set()\n",
    "        soup = bs(req.content, 'html5lib')\n",
    "        project_href = [i['href'] for i in soup.find_all('a', href=True)]\n",
    "        for i in project_href:\n",
    "            if \"/series/indian-premier-league-2009\" in i and  \"full-scorecard\" in i:\n",
    "                x.add(i)\n",
    "                \n",
    "        print(len(x))\n",
    "    else:\n",
    "        print(\"Failed to retrieve the web page. Status code:\", response.status_code)            "
   ]
  },
  {
   "cell_type": "code",
   "execution_count": 67,
   "id": "e8874b07",
   "metadata": {},
   "outputs": [
    {
     "name": "stdout",
     "output_type": "stream",
     "text": [
      "0\n",
      "  done  0 \n",
      "\n",
      "59\n",
      "  done  0 \n",
      "\n",
      "60\n",
      "  done  0 \n",
      "\n",
      "0\n",
      "  done  0 \n",
      "\n",
      "0\n",
      "  done  0 \n",
      "\n",
      "0\n",
      "  done  0 \n",
      "\n",
      "0\n",
      "  done  0 \n",
      "\n",
      "0\n",
      "  done  0 \n",
      "\n",
      "0\n",
      "  done  0 \n",
      "\n",
      "0\n",
      "  done  0 \n",
      "\n",
      "0\n",
      "  done  0 \n",
      "\n",
      "0\n",
      "  done  0 \n",
      "\n",
      "0\n",
      "  done  0 \n",
      "\n",
      "0\n",
      "  done  0 \n",
      "\n",
      "0\n",
      "  done  0 \n",
      "\n",
      "0\n",
      "  done  0 \n",
      "\n"
     ]
    }
   ],
   "source": [
    "all_matches = set()\n",
    "all_url = [\"https://www.espncricinfo.com/series/indian-premier-league-2007-08-313494/match-schedule-fixtures-and-results\",\n",
    "           \"https://www.espncricinfo.com/series/indian-premier-league-2009-374163/match-schedule-fixtures-and-results\",\n",
    "           \"https://www.espncricinfo.com/series/indian-premier-league-2009-10-418064/match-schedule-fixtures-and-results\",\n",
    "           \"https://www.espncricinfo.com/series/indian-premier-league-2011-466304/match-schedule-fixtures-and-results\",\n",
    "           \"https://www.espncricinfo.com/series/indian-premier-league-2012-520932/match-schedule-fixtures-and-results\",\n",
    "           \"https://www.espncricinfo.com/series/indian-premier-league-2013-586733/match-schedule-fixtures-and-results\",\n",
    "           \"https://www.espncricinfo.com/series/pepsi-indian-premier-league-2014-695871/match-schedule-fixtures-and-results\",\n",
    "           \"https://www.espncricinfo.com/series/pepsi-indian-premier-league-2015-791129/match-schedule-fixtures-and-results\",\n",
    "           \"https://www.espncricinfo.com/series/ipl-2016-968923/match-schedule-fixtures-and-results\",\n",
    "           \"https://www.espncricinfo.com/series/ipl-2017-1078425/match-schedule-fixtures-and-results\",\n",
    "           \"https://www.espncricinfo.com/series/ipl-2018-1131611/match-schedule-fixtures-and-results\",\n",
    "           \"https://www.espncricinfo.com/series/ipl-2019-1165643/match-schedule-fixtures-and-results\",\n",
    "           \"https://www.espncricinfo.com/series/ipl-2020-21-1210595/match-schedule-fixtures-and-results\",\n",
    "           \"https://www.espncricinfo.com/series/ipl-2021-1249214/match-schedule-fixtures-and-results\",\n",
    "           \"https://www.espncricinfo.com/series/indian-premier-league-2022-1298423/match-schedule-fixtures-and-results\",\n",
    "           \"https://www.espncricinfo.com/series/indian-premier-league-2023-1345038/match-schedule-fixtures-and-results\"]\n",
    "\n",
    "for URL in all_url:\n",
    "    matches_url(all_matches, URL)\n",
    "    print(\"  done \", len(all_matches) , \"\\n\")\n",
    "    \n"
   ]
  },
  {
   "cell_type": "code",
   "execution_count": 57,
   "id": "08352945",
   "metadata": {},
   "outputs": [
    {
     "data": {
      "text/plain": [
       "714"
      ]
     },
     "execution_count": 57,
     "metadata": {},
     "output_type": "execute_result"
    }
   ],
   "source": [
    "len(all_matches)"
   ]
  },
  {
   "cell_type": "code",
   "execution_count": 55,
   "id": "104e1d29",
   "metadata": {
    "scrolled": true
   },
   "outputs": [
    {
     "data": {
      "text/plain": [
       "{'/series/indian-premier-league-2009-10-418064/chennai-super-kings-vs-deccan-chargers-2nd-semi-final-419163/full-scorecard',\n",
       " '/series/indian-premier-league-2009-10-418064/chennai-super-kings-vs-deccan-chargers-5th-match-419110/full-scorecard',\n",
       " '/series/indian-premier-league-2009-10-418064/chennai-super-kings-vs-delhi-daredevils-50th-match-419155/full-scorecard',\n",
       " '/series/indian-premier-league-2009-10-418064/chennai-super-kings-vs-kings-xi-punjab-16th-match-419121/full-scorecard',\n",
       " '/series/indian-premier-league-2009-10-418064/chennai-super-kings-vs-kolkata-knight-riders-48th-match-419153/full-scorecard',\n",
       " '/series/indian-premier-league-2009-10-418064/chennai-super-kings-vs-mumbai-indians-37th-match-419142/full-scorecard',\n",
       " '/series/indian-premier-league-2009-10-418064/chennai-super-kings-vs-rajasthan-royals-32nd-match-419137/full-scorecard',\n",
       " '/series/indian-premier-league-2009-10-418064/chennai-super-kings-vs-royal-challengers-bangalore-28th-match-419133/full-scorecard',\n",
       " '/series/indian-premier-league-2009-10-418064/deccan-chargers-vs-chennai-super-kings-42nd-match-419147/full-scorecard',\n",
       " '/series/indian-premier-league-2009-10-418064/deccan-chargers-vs-delhi-daredevils-15th-match-419120/full-scorecard',\n",
       " '/series/indian-premier-league-2009-10-418064/deccan-chargers-vs-kings-xi-punjab-12th-match-419117/full-scorecard',\n",
       " '/series/indian-premier-league-2009-10-418064/deccan-chargers-vs-kolkata-knight-riders-1st-match-419106/full-scorecard',\n",
       " '/series/indian-premier-league-2009-10-418064/deccan-chargers-vs-mumbai-indians-25th-match-419130/full-scorecard',\n",
       " '/series/indian-premier-league-2009-10-418064/deccan-chargers-vs-rajasthan-royals-36th-match-419141/full-scorecard',\n",
       " '/series/indian-premier-league-2009-10-418064/deccan-chargers-vs-royal-challengers-bangalore-3rd-place-play-off-419164/full-scorecard',\n",
       " '/series/indian-premier-league-2009-10-418064/deccan-chargers-vs-royal-challengers-bangalore-46th-match-419151/full-scorecard',\n",
       " '/series/indian-premier-league-2009-10-418064/delhi-daredevils-vs-chennai-super-kings-11th-match-419116/full-scorecard',\n",
       " '/series/indian-premier-league-2009-10-418064/delhi-daredevils-vs-deccan-chargers-55th-match-419160/full-scorecard',\n",
       " '/series/indian-premier-league-2009-10-418064/delhi-daredevils-vs-kings-xi-punjab-44th-match-419149/full-scorecard',\n",
       " '/series/indian-premier-league-2009-10-418064/delhi-daredevils-vs-kolkata-knight-riders-26th-match-419131/full-scorecard',\n",
       " '/series/indian-premier-league-2009-10-418064/delhi-daredevils-vs-mumbai-indians-9th-match-419114/full-scorecard',\n",
       " '/series/indian-premier-league-2009-10-418064/delhi-daredevils-vs-rajasthan-royals-29th-match-419134/full-scorecard',\n",
       " '/series/indian-premier-league-2009-10-418064/delhi-daredevils-vs-royal-challengers-bangalore-35th-match-419140/full-scorecard',\n",
       " '/series/indian-premier-league-2009-10-418064/kings-xi-punjab-vs-chennai-super-kings-54th-match-419159/full-scorecard',\n",
       " '/series/indian-premier-league-2009-10-418064/kings-xi-punjab-vs-deccan-chargers-51st-match-419156/full-scorecard',\n",
       " '/series/indian-premier-league-2009-10-418064/kings-xi-punjab-vs-delhi-daredevils-3rd-match-419108/full-scorecard',\n",
       " '/series/indian-premier-league-2009-10-418064/kings-xi-punjab-vs-kolkata-knight-riders-23rd-match-419127/full-scorecard',\n",
       " '/series/indian-premier-league-2009-10-418064/kings-xi-punjab-vs-mumbai-indians-41st-match-419146/full-scorecard',\n",
       " '/series/indian-premier-league-2009-10-418064/kings-xi-punjab-vs-rajasthan-royals-19th-match-419124/full-scorecard',\n",
       " '/series/indian-premier-league-2009-10-418064/kings-xi-punjab-vs-royal-challengers-bangalore-31st-match-419136/full-scorecard',\n",
       " '/series/indian-premier-league-2009-10-418064/kolkata-knight-riders-vs-chennai-super-kings-8th-match-419113/full-scorecard',\n",
       " '/series/indian-premier-league-2009-10-418064/kolkata-knight-riders-vs-deccan-chargers-30th-match-419135/full-scorecard',\n",
       " '/series/indian-premier-league-2009-10-418064/kolkata-knight-riders-vs-delhi-daredevils-39th-match-419144/full-scorecard',\n",
       " '/series/indian-premier-league-2009-10-418064/kolkata-knight-riders-vs-kings-xi-punjab-34th-match-419139/full-scorecard',\n",
       " '/series/indian-premier-league-2009-10-418064/kolkata-knight-riders-vs-mumbai-indians-56th-match-419161/full-scorecard',\n",
       " '/series/indian-premier-league-2009-10-418064/kolkata-knight-riders-vs-rajasthan-royals-53rd-match-419158/full-scorecard',\n",
       " '/series/indian-premier-league-2009-10-418064/kolkata-knight-riders-vs-royal-challengers-bangalore-4th-match-419109/full-scorecard',\n",
       " '/series/indian-premier-league-2009-10-418064/mumbai-indians-vs-chennai-super-kings-21st-match-419125/full-scorecard',\n",
       " '/series/indian-premier-league-2009-10-418064/mumbai-indians-vs-chennai-super-kings-final-419165/full-scorecard',\n",
       " '/series/indian-premier-league-2009-10-418064/mumbai-indians-vs-deccan-chargers-33rd-match-419138/full-scorecard',\n",
       " '/series/indian-premier-league-2009-10-418064/mumbai-indians-vs-delhi-daredevils-47th-match-419152/full-scorecard',\n",
       " '/series/indian-premier-league-2009-10-418064/mumbai-indians-vs-kings-xi-punjab-27th-match-419132/full-scorecard',\n",
       " '/series/indian-premier-league-2009-10-418064/mumbai-indians-vs-kolkata-knight-riders-17th-match-419122/full-scorecard',\n",
       " '/series/indian-premier-league-2009-10-418064/mumbai-indians-vs-rajasthan-royals-2nd-match-419107/full-scorecard',\n",
       " '/series/indian-premier-league-2009-10-418064/mumbai-indians-vs-royal-challengers-bangalore-14th-match-419119/full-scorecard',\n",
       " '/series/indian-premier-league-2009-10-418064/mumbai-indians-vs-royal-challengers-bangalore-1st-semi-final-419162/full-scorecard',\n",
       " '/series/indian-premier-league-2009-10-418064/rajasthan-royals-vs-chennai-super-kings-24th-match-419129/full-scorecard',\n",
       " '/series/indian-premier-league-2009-10-418064/rajasthan-royals-vs-deccan-chargers-22nd-match-419126/full-scorecard',\n",
       " '/series/indian-premier-league-2009-10-418064/rajasthan-royals-vs-delhi-daredevils-6th-match-419111/full-scorecard',\n",
       " '/series/indian-premier-league-2009-10-418064/rajasthan-royals-vs-kings-xi-punjab-38th-match-419143/full-scorecard',\n",
       " '/series/indian-premier-league-2009-10-418064/rajasthan-royals-vs-kolkata-knight-riders-13th-match-419118/full-scorecard',\n",
       " '/series/indian-premier-league-2009-10-418064/rajasthan-royals-vs-mumbai-indians-45th-match-419150/full-scorecard',\n",
       " '/series/indian-premier-league-2009-10-418064/rajasthan-royals-vs-royal-challengers-bangalore-49th-match-419154/full-scorecard',\n",
       " '/series/indian-premier-league-2009-10-418064/royal-challengers-bangalore-vs-chennai-super-kings-18th-match-419123/full-scorecard',\n",
       " '/series/indian-premier-league-2009-10-418064/royal-challengers-bangalore-vs-deccan-chargers-40th-match-419145/full-scorecard',\n",
       " '/series/indian-premier-league-2009-10-418064/royal-challengers-bangalore-vs-delhi-daredevils-20th-match-419128/full-scorecard',\n",
       " '/series/indian-premier-league-2009-10-418064/royal-challengers-bangalore-vs-kings-xi-punjab-7th-match-419112/full-scorecard',\n",
       " '/series/indian-premier-league-2009-10-418064/royal-challengers-bangalore-vs-kolkata-knight-riders-43rd-match-419148/full-scorecard',\n",
       " '/series/indian-premier-league-2009-10-418064/royal-challengers-bangalore-vs-mumbai-indians-52nd-match-419157/full-scorecard',\n",
       " '/series/indian-premier-league-2009-10-418064/royal-challengers-bangalore-vs-rajasthan-royals-10th-match-419115/full-scorecard',\n",
       " '/series/indian-premier-league-2009-374163/chennai-super-kings-vs-deccan-chargers-16th-match-392196/full-scorecard',\n",
       " '/series/indian-premier-league-2009-374163/chennai-super-kings-vs-deccan-chargers-29th-match-392209/full-scorecard',\n",
       " '/series/indian-premier-league-2009-374163/chennai-super-kings-vs-delhi-daredevils-26th-match-392206/full-scorecard',\n",
       " '/series/indian-premier-league-2009-374163/chennai-super-kings-vs-delhi-daredevils-9th-match-392189/full-scorecard',\n",
       " '/series/indian-premier-league-2009-374163/chennai-super-kings-vs-kings-xi-punjab-34th-match-392214/full-scorecard',\n",
       " '/series/indian-premier-league-2009-374163/chennai-super-kings-vs-kings-xi-punjab-54th-match-392234/full-scorecard',\n",
       " '/series/indian-premier-league-2009-374163/chennai-super-kings-vs-kolkata-knight-riders-13th-match-392193/full-scorecard',\n",
       " '/series/indian-premier-league-2009-374163/chennai-super-kings-vs-kolkata-knight-riders-51st-match-392231/full-scorecard',\n",
       " '/series/indian-premier-league-2009-374163/chennai-super-kings-vs-mumbai-indians-1st-match-392181/full-scorecard',\n",
       " '/series/indian-premier-league-2009-374163/chennai-super-kings-vs-mumbai-indians-47th-match-392227/full-scorecard',\n",
       " '/series/indian-premier-league-2009-374163/chennai-super-kings-vs-rajasthan-royals-22nd-match-392202/full-scorecard',\n",
       " '/series/indian-premier-league-2009-374163/chennai-super-kings-vs-rajasthan-royals-37th-match-392217/full-scorecard',\n",
       " '/series/indian-premier-league-2009-374163/chennai-super-kings-vs-royal-challengers-bangalore-2nd-semi-final-392238/full-scorecard',\n",
       " '/series/indian-premier-league-2009-374163/deccan-chargers-vs-delhi-daredevils-1st-semi-final-392237/full-scorecard',\n",
       " '/series/indian-premier-league-2009-374163/deccan-chargers-vs-delhi-daredevils-21st-match-392201/full-scorecard',\n",
       " '/series/indian-premier-league-2009-374163/deccan-chargers-vs-delhi-daredevils-43rd-match-392223/full-scorecard',\n",
       " '/series/indian-premier-league-2009-374163/deccan-chargers-vs-kings-xi-punjab-36th-match-392216/full-scorecard',\n",
       " '/series/indian-premier-league-2009-374163/deccan-chargers-vs-kings-xi-punjab-49th-match-392229/full-scorecard',\n",
       " '/series/indian-premier-league-2009-374163/deccan-chargers-vs-kolkata-knight-riders-48th-match-392228/full-scorecard',\n",
       " '/series/indian-premier-league-2009-374163/deccan-chargers-vs-kolkata-knight-riders-4th-match-392184/full-scorecard',\n",
       " '/series/indian-premier-league-2009-374163/deccan-chargers-vs-mumbai-indians-12th-match-392192/full-scorecard',\n",
       " '/series/indian-premier-league-2009-374163/deccan-chargers-vs-mumbai-indians-32nd-match-392212/full-scorecard',\n",
       " '/series/indian-premier-league-2009-374163/deccan-chargers-vs-rajasthan-royals-25th-match-392205/full-scorecard',\n",
       " '/series/indian-premier-league-2009-374163/deccan-chargers-vs-rajasthan-royals-40th-match-392220/full-scorecard',\n",
       " '/series/indian-premier-league-2009-374163/deccan-chargers-vs-royal-challengers-bangalore-final-392239/full-scorecard',\n",
       " '/series/indian-premier-league-2009-374163/delhi-daredevils-vs-kings-xi-punjab-3rd-match-392183/full-scorecard',\n",
       " '/series/indian-premier-league-2009-374163/delhi-daredevils-vs-kings-xi-punjab-46th-match-392226/full-scorecard',\n",
       " '/series/indian-premier-league-2009-374163/delhi-daredevils-vs-kolkata-knight-riders-31st-match-392211/full-scorecard',\n",
       " '/series/indian-premier-league-2009-374163/delhi-daredevils-vs-kolkata-knight-riders-39th-match-392219/full-scorecard',\n",
       " '/series/indian-premier-league-2009-374163/delhi-daredevils-vs-mumbai-indians-35th-match-392215/full-scorecard',\n",
       " '/series/indian-premier-league-2009-374163/delhi-daredevils-vs-mumbai-indians-55th-match-392235/full-scorecard',\n",
       " '/series/indian-premier-league-2009-374163/delhi-daredevils-vs-rajasthan-royals-18th-match-392198/full-scorecard',\n",
       " '/series/indian-premier-league-2009-374163/delhi-daredevils-vs-rajasthan-royals-50th-match-392230/full-scorecard',\n",
       " '/series/indian-premier-league-2009-374163/kings-xi-punjab-vs-kolkata-knight-riders-27th-match-392207/full-scorecard',\n",
       " '/series/indian-premier-league-2009-374163/kings-xi-punjab-vs-kolkata-knight-riders-6th-match-392186/full-scorecard',\n",
       " '/series/indian-premier-league-2009-374163/kings-xi-punjab-vs-mumbai-indians-20th-match-392200/full-scorecard',\n",
       " '/series/indian-premier-league-2009-374163/kings-xi-punjab-vs-mumbai-indians-42nd-match-392222/full-scorecard',\n",
       " '/series/indian-premier-league-2009-374163/kings-xi-punjab-vs-rajasthan-royals-15th-match-392195/full-scorecard',\n",
       " '/series/indian-premier-league-2009-374163/kings-xi-punjab-vs-rajasthan-royals-30th-match-392210/full-scorecard',\n",
       " '/series/indian-premier-league-2009-374163/kolkata-knight-riders-vs-mumbai-indians-17th-match-392197/full-scorecard',\n",
       " '/series/indian-premier-league-2009-374163/kolkata-knight-riders-vs-mumbai-indians-23rd-match-392203/full-scorecard',\n",
       " '/series/indian-premier-league-2009-374163/kolkata-knight-riders-vs-rajasthan-royals-10th-match-392190/full-scorecard',\n",
       " '/series/indian-premier-league-2009-374163/kolkata-knight-riders-vs-rajasthan-royals-53rd-match-392233/full-scorecard',\n",
       " '/series/indian-premier-league-2009-374163/mumbai-indians-vs-rajasthan-royals-45th-match-392225/full-scorecard',\n",
       " '/series/indian-premier-league-2009-374163/mumbai-indians-vs-rajasthan-royals-7th-match-392187/full-scorecard',\n",
       " '/series/indian-premier-league-2009-374163/royal-challengers-bangalore-vs-chennai-super-kings-44th-match-392224/full-scorecard',\n",
       " '/series/indian-premier-league-2009-374163/royal-challengers-bangalore-vs-chennai-super-kings-5th-match-392185/full-scorecard',\n",
       " '/series/indian-premier-league-2009-374163/royal-challengers-bangalore-vs-deccan-chargers-56th-match-392236/full-scorecard',\n",
       " '/series/indian-premier-league-2009-374163/royal-challengers-bangalore-vs-deccan-chargers-8th-match-392188/full-scorecard',\n",
       " '/series/indian-premier-league-2009-374163/royal-challengers-bangalore-vs-delhi-daredevils-14th-match-392194/full-scorecard',\n",
       " '/series/indian-premier-league-2009-374163/royal-challengers-bangalore-vs-delhi-daredevils-52nd-match-392232/full-scorecard',\n",
       " '/series/indian-premier-league-2009-374163/royal-challengers-bangalore-vs-kings-xi-punjab-11th-match-392191/full-scorecard',\n",
       " '/series/indian-premier-league-2009-374163/royal-challengers-bangalore-vs-kings-xi-punjab-24th-match-392204/full-scorecard',\n",
       " '/series/indian-premier-league-2009-374163/royal-challengers-bangalore-vs-kolkata-knight-riders-19th-match-392199/full-scorecard',\n",
       " '/series/indian-premier-league-2009-374163/royal-challengers-bangalore-vs-kolkata-knight-riders-41st-match-392221/full-scorecard',\n",
       " '/series/indian-premier-league-2009-374163/royal-challengers-bangalore-vs-mumbai-indians-28th-match-392208/full-scorecard',\n",
       " '/series/indian-premier-league-2009-374163/royal-challengers-bangalore-vs-mumbai-indians-38th-match-392218/full-scorecard',\n",
       " '/series/indian-premier-league-2009-374163/royal-challengers-bangalore-vs-rajasthan-royals-2nd-match-392182/full-scorecard',\n",
       " '/series/indian-premier-league-2009-374163/royal-challengers-bangalore-vs-rajasthan-royals-33rd-match-392213/full-scorecard'}"
      ]
     },
     "execution_count": 55,
     "metadata": {},
     "output_type": "execute_result"
    }
   ],
   "source": [
    "all_set_matches = set(all_matches)\n",
    "all_set_matches"
   ]
  },
  {
   "cell_type": "code",
   "execution_count": 29,
   "id": "74610e1d",
   "metadata": {},
   "outputs": [
    {
     "name": "stdout",
     "output_type": "stream",
     "text": [
      "Failed to retrieve the web page. Status code: 404\n"
     ]
    }
   ],
   "source": [
    "import requests\n",
    "from bs4 import BeautifulSoup\n",
    "\n",
    "# URL of the match you want to scrape (example)\n",
    "url = \"https://www.espncricinfo.com/series/indian-premier-league-2007-08-313494/chennai-super-kings-vs-kings-xi-punjab-10th-match-313501/full-scorecard\"\n",
    "\n",
    "# Send an HTTP GET request to the URL\n",
    "response = requests.get(url)\n",
    "\n",
    "# Check if the request was successful\n",
    "if response.status_code == 200:\n",
    "    # Parse the HTML content of the page using BeautifulSoup\n",
    "    soup = BeautifulSoup(response.content, \"html.parser\")\n",
    "    \n",
    "    # Find the table containing ball-by-ball data\n",
    "    table = soup.find(\"table\", class_=\"table batsman\")\n",
    "    \n",
    "    # Initialize lists to store ball-by-ball data\n",
    "    balls = []\n",
    "    \n",
    "    # Loop through rows in the table (skipping the header row)\n",
    "    for row in table.find_all(\"tr\")[1:]:\n",
    "        # Extract data from each row\n",
    "        columns = row.find_all(\"td\")\n",
    "        ball_info = columns[0].text.strip()  # Ball number and description\n",
    "        batsman = columns[1].text.strip()    # Batsman name\n",
    "        runs = columns[2].text.strip()       # Runs scored\n",
    "        extras = columns[3].text.strip()     # Extras (if any)\n",
    "        total_runs = columns[4].text.strip() # Total runs\n",
    "        \n",
    "        # Append ball-by-ball data to the list\n",
    "        balls.append(f\"{ball_info} - {batsman} scored {runs} ({extras}), Total: {total_runs}\")\n",
    "        \n",
    "    # Print the scraped ball-by-ball data\n",
    "    for ball in balls:\n",
    "        print(ball)\n",
    "else:\n",
    "    print(\"Failed to retrieve the web page. Status code:\", response.status_code)\n"
   ]
  },
  {
   "cell_type": "code",
   "execution_count": 63,
   "id": "a3113160",
   "metadata": {},
   "outputs": [
    {
     "name": "stdout",
     "output_type": "stream",
     "text": [
      "60\n"
     ]
    }
   ],
   "source": [
    "temp_url = \"https://www.espncricinfo.com/series/indian-premier-league-2009-10-418064/match-schedule-fixtures-and-results\"\n",
    "req = requests.get(temp_url)\n",
    "\n",
    "soup = bs(req.content, 'html5lib')\n",
    "project_href = [i['href'] for i in soup.find_all('a', href=True)]\n",
    "\n",
    "x = set()\n",
    "for i in project_href:\n",
    "    if \"/series/indian-premier-league-2009\" in i and  \"full-scorecard\" in i:\n",
    "        x.add(i)\n",
    "        \n",
    "print(len(x))"
   ]
  },
  {
   "cell_type": "code",
   "execution_count": null,
   "id": "b2fbadd2",
   "metadata": {},
   "outputs": [],
   "source": []
  },
  {
   "cell_type": "code",
   "execution_count": 77,
   "id": "eb83ec1a",
   "metadata": {},
   "outputs": [
    {
     "name": "stdout",
     "output_type": "stream",
     "text": [
      "working\n",
      "working\n"
     ]
    }
   ],
   "source": [
    "## Scrap data from URL\n",
    "\n",
    "link1 = 'https://www.espncricinfo.com'+'/series/indian-premier-league-2009-10-418064/chennai-super-kings-vs-deccan-chargers-2nd-semi-final-419163/full-scorecard'\n",
    "link2 = link1[:-14]+'ball-by-ball-commentary'\n",
    "request = requests.get(link1)\n",
    "# if request.status_code == 200:\n",
    "#     print(\"working\")\n",
    "# else:\n",
    "#     print(\"Failed to retrieve the web page. Status code:\", response.status_code)\n",
    "    \n",
    "    \n",
    "request = requests.get(link2)\n",
    "if request.status_code == 200:\n",
    "    print(\"working\")\n",
    "else:\n",
    "    print(\"Failed to retrieve the web page. Status code:\", response.status_code)"
   ]
  },
  {
   "cell_type": "code",
   "execution_count": null,
   "id": "abd3162d",
   "metadata": {},
   "outputs": [],
   "source": [
    "https://www.espncricinfo.com/series/ipl-2019-1165643/chennai-super-kings-vs-royal-challengers-bangalore-1st-match-1175356/full-scorecard"
   ]
  }
 ],
 "metadata": {
  "kernelspec": {
   "display_name": "Python 3 (ipykernel)",
   "language": "python",
   "name": "python3"
  },
  "language_info": {
   "codemirror_mode": {
    "name": "ipython",
    "version": 3
   },
   "file_extension": ".py",
   "mimetype": "text/x-python",
   "name": "python",
   "nbconvert_exporter": "python",
   "pygments_lexer": "ipython3",
   "version": "3.10.2"
  }
 },
 "nbformat": 4,
 "nbformat_minor": 5
}
