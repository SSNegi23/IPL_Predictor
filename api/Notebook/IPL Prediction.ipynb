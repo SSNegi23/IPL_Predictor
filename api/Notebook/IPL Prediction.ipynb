{
 "cells": [
  {
   "cell_type": "markdown",
   "id": "684ef1cb",
   "metadata": {},
   "source": [
    "# IPL Prediction"
   ]
  },
  {
   "cell_type": "code",
   "execution_count": 1,
   "id": "4feb2b7d",
   "metadata": {},
   "outputs": [],
   "source": [
    "# Importing Necessary Data\n",
    "\n",
    "import numpy as np\n",
    "import pandas as pd\n",
    "import matplotlib.pyplot as ply\n",
    "import seaborn as sns\n",
    "import pickle\n",
    "%matplotlib inline"
   ]
  },
  {
   "cell_type": "markdown",
   "id": "882a9afb",
   "metadata": {},
   "source": [
    "# Analysing Data"
   ]
  },
  {
   "cell_type": "code",
   "execution_count": 2,
   "id": "a515bba3",
   "metadata": {},
   "outputs": [],
   "source": [
    "#reading the dataset from csv file\n",
    "matches = pd.read_csv('data.csv')"
   ]
  },
  {
   "cell_type": "code",
   "execution_count": 3,
   "id": "31903eaa",
   "metadata": {},
   "outputs": [
    {
     "data": {
      "text/html": [
       "<div>\n",
       "<style scoped>\n",
       "    .dataframe tbody tr th:only-of-type {\n",
       "        vertical-align: middle;\n",
       "    }\n",
       "\n",
       "    .dataframe tbody tr th {\n",
       "        vertical-align: top;\n",
       "    }\n",
       "\n",
       "    .dataframe thead th {\n",
       "        text-align: right;\n",
       "    }\n",
       "</style>\n",
       "<table border=\"1\" class=\"dataframe\">\n",
       "  <thead>\n",
       "    <tr style=\"text-align: right;\">\n",
       "      <th></th>\n",
       "      <th>mid</th>\n",
       "      <th>date</th>\n",
       "      <th>venue</th>\n",
       "      <th>batting_team</th>\n",
       "      <th>bowling_team</th>\n",
       "      <th>batsman</th>\n",
       "      <th>bowler</th>\n",
       "      <th>runs</th>\n",
       "      <th>wickets</th>\n",
       "      <th>overs</th>\n",
       "      <th>runs_last_5</th>\n",
       "      <th>wickets_last_5</th>\n",
       "      <th>striker</th>\n",
       "      <th>non-striker</th>\n",
       "      <th>total</th>\n",
       "    </tr>\n",
       "  </thead>\n",
       "  <tbody>\n",
       "    <tr>\n",
       "      <th>0</th>\n",
       "      <td>1</td>\n",
       "      <td>4/18/2008</td>\n",
       "      <td>M Chinnaswamy Stadium</td>\n",
       "      <td>Kolkata Knight Riders</td>\n",
       "      <td>Royal Challengers Bangalore</td>\n",
       "      <td>SC Ganguly</td>\n",
       "      <td>P Kumar</td>\n",
       "      <td>1</td>\n",
       "      <td>0</td>\n",
       "      <td>0.1</td>\n",
       "      <td>1</td>\n",
       "      <td>0</td>\n",
       "      <td>0.0</td>\n",
       "      <td>0.0</td>\n",
       "      <td>222</td>\n",
       "    </tr>\n",
       "    <tr>\n",
       "      <th>1</th>\n",
       "      <td>1</td>\n",
       "      <td>4/18/2008</td>\n",
       "      <td>M Chinnaswamy Stadium</td>\n",
       "      <td>Kolkata Knight Riders</td>\n",
       "      <td>Royal Challengers Bangalore</td>\n",
       "      <td>BB McCullum</td>\n",
       "      <td>P Kumar</td>\n",
       "      <td>1</td>\n",
       "      <td>0</td>\n",
       "      <td>0.2</td>\n",
       "      <td>1</td>\n",
       "      <td>0</td>\n",
       "      <td>0.0</td>\n",
       "      <td>0.0</td>\n",
       "      <td>222</td>\n",
       "    </tr>\n",
       "    <tr>\n",
       "      <th>2</th>\n",
       "      <td>1</td>\n",
       "      <td>4/18/2008</td>\n",
       "      <td>M Chinnaswamy Stadium</td>\n",
       "      <td>Kolkata Knight Riders</td>\n",
       "      <td>Royal Challengers Bangalore</td>\n",
       "      <td>BB McCullum</td>\n",
       "      <td>P Kumar</td>\n",
       "      <td>2</td>\n",
       "      <td>0</td>\n",
       "      <td>0.2</td>\n",
       "      <td>2</td>\n",
       "      <td>0</td>\n",
       "      <td>0.0</td>\n",
       "      <td>0.0</td>\n",
       "      <td>222</td>\n",
       "    </tr>\n",
       "    <tr>\n",
       "      <th>3</th>\n",
       "      <td>1</td>\n",
       "      <td>4/18/2008</td>\n",
       "      <td>M Chinnaswamy Stadium</td>\n",
       "      <td>Kolkata Knight Riders</td>\n",
       "      <td>Royal Challengers Bangalore</td>\n",
       "      <td>BB McCullum</td>\n",
       "      <td>P Kumar</td>\n",
       "      <td>2</td>\n",
       "      <td>0</td>\n",
       "      <td>0.3</td>\n",
       "      <td>2</td>\n",
       "      <td>0</td>\n",
       "      <td>0.0</td>\n",
       "      <td>0.0</td>\n",
       "      <td>222</td>\n",
       "    </tr>\n",
       "    <tr>\n",
       "      <th>4</th>\n",
       "      <td>1</td>\n",
       "      <td>4/18/2008</td>\n",
       "      <td>M Chinnaswamy Stadium</td>\n",
       "      <td>Kolkata Knight Riders</td>\n",
       "      <td>Royal Challengers Bangalore</td>\n",
       "      <td>BB McCullum</td>\n",
       "      <td>P Kumar</td>\n",
       "      <td>2</td>\n",
       "      <td>0</td>\n",
       "      <td>0.4</td>\n",
       "      <td>2</td>\n",
       "      <td>0</td>\n",
       "      <td>0.0</td>\n",
       "      <td>0.0</td>\n",
       "      <td>222</td>\n",
       "    </tr>\n",
       "  </tbody>\n",
       "</table>\n",
       "</div>"
      ],
      "text/plain": [
       "   mid       date                  venue           batting_team  \\\n",
       "0    1  4/18/2008  M Chinnaswamy Stadium  Kolkata Knight Riders   \n",
       "1    1  4/18/2008  M Chinnaswamy Stadium  Kolkata Knight Riders   \n",
       "2    1  4/18/2008  M Chinnaswamy Stadium  Kolkata Knight Riders   \n",
       "3    1  4/18/2008  M Chinnaswamy Stadium  Kolkata Knight Riders   \n",
       "4    1  4/18/2008  M Chinnaswamy Stadium  Kolkata Knight Riders   \n",
       "\n",
       "                  bowling_team      batsman   bowler  runs  wickets  overs  \\\n",
       "0  Royal Challengers Bangalore   SC Ganguly  P Kumar     1        0    0.1   \n",
       "1  Royal Challengers Bangalore  BB McCullum  P Kumar     1        0    0.2   \n",
       "2  Royal Challengers Bangalore  BB McCullum  P Kumar     2        0    0.2   \n",
       "3  Royal Challengers Bangalore  BB McCullum  P Kumar     2        0    0.3   \n",
       "4  Royal Challengers Bangalore  BB McCullum  P Kumar     2        0    0.4   \n",
       "\n",
       "   runs_last_5  wickets_last_5  striker  non-striker  total  \n",
       "0            1               0      0.0          0.0    222  \n",
       "1            1               0      0.0          0.0    222  \n",
       "2            2               0      0.0          0.0    222  \n",
       "3            2               0      0.0          0.0    222  \n",
       "4            2               0      0.0          0.0    222  "
      ]
     },
     "execution_count": 3,
     "metadata": {},
     "output_type": "execute_result"
    }
   ],
   "source": [
    "matches.head()"
   ]
  },
  {
   "cell_type": "code",
   "execution_count": 4,
   "id": "bff1ee37",
   "metadata": {},
   "outputs": [
    {
     "data": {
      "text/plain": [
       "Index(['mid', 'date', 'venue', 'batting_team', 'bowling_team', 'batsman',\n",
       "       'bowler', 'runs', 'wickets', 'overs', 'runs_last_5', 'wickets_last_5',\n",
       "       'striker', 'non-striker', 'total'],\n",
       "      dtype='object')"
      ]
     },
     "execution_count": 4,
     "metadata": {},
     "output_type": "execute_result"
    }
   ],
   "source": [
    "matches.columns"
   ]
  },
  {
   "cell_type": "code",
   "execution_count": 5,
   "id": "7c2faa09",
   "metadata": {},
   "outputs": [
    {
     "data": {
      "text/plain": [
       "(76614, 15)"
      ]
     },
     "execution_count": 5,
     "metadata": {},
     "output_type": "execute_result"
    }
   ],
   "source": [
    "matches.shape"
   ]
  },
  {
   "cell_type": "markdown",
   "id": "3b284840",
   "metadata": {},
   "source": [
    "# Data Cleaning"
   ]
  },
  {
   "cell_type": "code",
   "execution_count": 6,
   "id": "f54b72bb",
   "metadata": {},
   "outputs": [],
   "source": [
    "#removing the unnecessary columns\n",
    "columns_to_remove = ['mid', 'venue', 'batsman', 'bowler', 'striker', 'non-striker']\n",
    "matches.drop(labels=columns_to_remove, axis=1, inplace=True)"
   ]
  },
  {
   "cell_type": "code",
   "execution_count": 7,
   "id": "e584f4b2",
   "metadata": {},
   "outputs": [
    {
     "data": {
      "text/plain": [
       "array(['Kolkata Knight Riders', 'Chennai Super Kings', 'Rajasthan Royals',\n",
       "       'Mumbai Indians', 'Deccan Chargers', 'Kings XI Punjab',\n",
       "       'Royal Challengers Bangalore', 'Delhi Daredevils',\n",
       "       'Kochi Tuskers Kerala', 'Pune Warriors', 'Sunrisers Hyderabad',\n",
       "       'Rising Pune Supergiants', 'Gujarat Lions',\n",
       "       'Rising Pune Supergiant', 'Lucknow Super Giants', 'Gujarat Titans'],\n",
       "      dtype=object)"
      ]
     },
     "execution_count": 7,
     "metadata": {},
     "output_type": "execute_result"
    }
   ],
   "source": [
    "matches.batting_team.unique() "
   ]
  },
  {
   "cell_type": "code",
   "execution_count": 8,
   "id": "4da85f38",
   "metadata": {},
   "outputs": [
    {
     "data": {
      "text/plain": [
       "array(['Kolkata Knight Riders', 'Chennai Super Kings', 'Rajasthan Royals',\n",
       "       'Mumbai Indians', 'Deccan Chargers', 'Kings XI Punjab',\n",
       "       'Royal Challengers Bangalore', 'Delhi Capitals',\n",
       "       'Kochi Tuskers Kerala', 'Pune Warriors', 'Sunrisers Hyderabad',\n",
       "       'Rising Pune Supergiants', 'Gujarat Lions',\n",
       "       'Rising Pune Supergiant', 'Lucknow Super Giants', 'Gujarat Titans'],\n",
       "      dtype=object)"
      ]
     },
     "execution_count": 8,
     "metadata": {},
     "output_type": "execute_result"
    }
   ],
   "source": [
    "matches.replace(to_replace =\"Delhi Daredevils\", \n",
    "                 value = \"Delhi Capitals\", \n",
    "                  inplace = True)\n",
    "matches.batting_team.unique()"
   ]
  },
  {
   "cell_type": "code",
   "execution_count": 9,
   "id": "2c3b783f",
   "metadata": {},
   "outputs": [],
   "source": [
    "current_teams = ['Chennai Super Kings', 'Delhi Capitals' , 'Kings XI Punjab', \n",
    "                 'Kolkata Knight Riders', 'Mumbai Indians', 'Rajasthan Royals',\n",
    "                 'Royal Challengers Bangalore', 'Sunrisers Hyderabad','Gujarat Titans', 'Lucknow Super Giants']"
   ]
  },
  {
   "cell_type": "code",
   "execution_count": 10,
   "id": "93ab2a44",
   "metadata": {},
   "outputs": [],
   "source": [
    "matches = matches[(matches['batting_team'].isin(current_teams)) & (matches['bowling_team'].isin(current_teams))]"
   ]
  },
  {
   "cell_type": "code",
   "execution_count": 11,
   "id": "6c5b4588",
   "metadata": {},
   "outputs": [
    {
     "name": "stdout",
     "output_type": "stream",
     "text": [
      "['Kolkata Knight Riders' 'Chennai Super Kings' 'Rajasthan Royals'\n",
      " 'Mumbai Indians' 'Kings XI Punjab' 'Royal Challengers Bangalore'\n",
      " 'Delhi Capitals' 'Sunrisers Hyderabad' 'Lucknow Super Giants'\n",
      " 'Gujarat Titans']\n",
      "['Royal Challengers Bangalore' 'Kings XI Punjab' 'Delhi Capitals'\n",
      " 'Rajasthan Royals' 'Mumbai Indians' 'Chennai Super Kings'\n",
      " 'Kolkata Knight Riders' 'Sunrisers Hyderabad' 'Gujarat Titans'\n",
      " 'Lucknow Super Giants']\n"
     ]
    }
   ],
   "source": [
    "print(matches.batting_team.unique())    #categorial feature 1\n",
    "print(matches.bowling_team.unique())   #categorial feature 2"
   ]
  },
  {
   "cell_type": "code",
   "execution_count": 12,
   "id": "492da6b2",
   "metadata": {},
   "outputs": [],
   "source": [
    "#setting minimum over before prediction\n",
    "matches = matches[matches['overs']>=6.0]"
   ]
  },
  {
   "cell_type": "code",
   "execution_count": 13,
   "id": "92334c02",
   "metadata": {},
   "outputs": [
    {
     "data": {
      "text/html": [
       "<div>\n",
       "<style scoped>\n",
       "    .dataframe tbody tr th:only-of-type {\n",
       "        vertical-align: middle;\n",
       "    }\n",
       "\n",
       "    .dataframe tbody tr th {\n",
       "        vertical-align: top;\n",
       "    }\n",
       "\n",
       "    .dataframe thead th {\n",
       "        text-align: right;\n",
       "    }\n",
       "</style>\n",
       "<table border=\"1\" class=\"dataframe\">\n",
       "  <thead>\n",
       "    <tr style=\"text-align: right;\">\n",
       "      <th></th>\n",
       "      <th>date</th>\n",
       "      <th>batting_team</th>\n",
       "      <th>bowling_team</th>\n",
       "      <th>runs</th>\n",
       "      <th>wickets</th>\n",
       "      <th>overs</th>\n",
       "      <th>runs_last_5</th>\n",
       "      <th>wickets_last_5</th>\n",
       "      <th>total</th>\n",
       "    </tr>\n",
       "  </thead>\n",
       "  <tbody>\n",
       "    <tr>\n",
       "      <th>38</th>\n",
       "      <td>4/18/2008</td>\n",
       "      <td>Kolkata Knight Riders</td>\n",
       "      <td>Royal Challengers Bangalore</td>\n",
       "      <td>62</td>\n",
       "      <td>1</td>\n",
       "      <td>6.1</td>\n",
       "      <td>55</td>\n",
       "      <td>1</td>\n",
       "      <td>222</td>\n",
       "    </tr>\n",
       "    <tr>\n",
       "      <th>39</th>\n",
       "      <td>4/18/2008</td>\n",
       "      <td>Kolkata Knight Riders</td>\n",
       "      <td>Royal Challengers Bangalore</td>\n",
       "      <td>63</td>\n",
       "      <td>1</td>\n",
       "      <td>6.2</td>\n",
       "      <td>52</td>\n",
       "      <td>1</td>\n",
       "      <td>222</td>\n",
       "    </tr>\n",
       "    <tr>\n",
       "      <th>40</th>\n",
       "      <td>4/18/2008</td>\n",
       "      <td>Kolkata Knight Riders</td>\n",
       "      <td>Royal Challengers Bangalore</td>\n",
       "      <td>64</td>\n",
       "      <td>1</td>\n",
       "      <td>6.3</td>\n",
       "      <td>47</td>\n",
       "      <td>1</td>\n",
       "      <td>222</td>\n",
       "    </tr>\n",
       "    <tr>\n",
       "      <th>41</th>\n",
       "      <td>4/18/2008</td>\n",
       "      <td>Kolkata Knight Riders</td>\n",
       "      <td>Royal Challengers Bangalore</td>\n",
       "      <td>66</td>\n",
       "      <td>1</td>\n",
       "      <td>6.4</td>\n",
       "      <td>45</td>\n",
       "      <td>1</td>\n",
       "      <td>222</td>\n",
       "    </tr>\n",
       "    <tr>\n",
       "      <th>42</th>\n",
       "      <td>4/18/2008</td>\n",
       "      <td>Kolkata Knight Riders</td>\n",
       "      <td>Royal Challengers Bangalore</td>\n",
       "      <td>67</td>\n",
       "      <td>1</td>\n",
       "      <td>6.5</td>\n",
       "      <td>46</td>\n",
       "      <td>1</td>\n",
       "      <td>222</td>\n",
       "    </tr>\n",
       "  </tbody>\n",
       "</table>\n",
       "</div>"
      ],
      "text/plain": [
       "         date           batting_team                 bowling_team  runs  \\\n",
       "38  4/18/2008  Kolkata Knight Riders  Royal Challengers Bangalore    62   \n",
       "39  4/18/2008  Kolkata Knight Riders  Royal Challengers Bangalore    63   \n",
       "40  4/18/2008  Kolkata Knight Riders  Royal Challengers Bangalore    64   \n",
       "41  4/18/2008  Kolkata Knight Riders  Royal Challengers Bangalore    66   \n",
       "42  4/18/2008  Kolkata Knight Riders  Royal Challengers Bangalore    67   \n",
       "\n",
       "    wickets  overs  runs_last_5  wickets_last_5  total  \n",
       "38        1    6.1           55               1    222  \n",
       "39        1    6.2           52               1    222  \n",
       "40        1    6.3           47               1    222  \n",
       "41        1    6.4           45               1    222  \n",
       "42        1    6.5           46               1    222  "
      ]
     },
     "execution_count": 13,
     "metadata": {},
     "output_type": "execute_result"
    }
   ],
   "source": [
    "matches.head()"
   ]
  },
  {
   "cell_type": "code",
   "execution_count": 14,
   "id": "745c4be4",
   "metadata": {},
   "outputs": [
    {
     "name": "stdout",
     "output_type": "stream",
     "text": [
      "<class 'pandas.core.frame.DataFrame'>\n",
      "Int64Index: 37809 entries, 38 to 76613\n",
      "Data columns (total 9 columns):\n",
      " #   Column          Non-Null Count  Dtype  \n",
      "---  ------          --------------  -----  \n",
      " 0   date            37809 non-null  object \n",
      " 1   batting_team    37809 non-null  object \n",
      " 2   bowling_team    37809 non-null  object \n",
      " 3   runs            37809 non-null  int64  \n",
      " 4   wickets         37809 non-null  int64  \n",
      " 5   overs           37809 non-null  float64\n",
      " 6   runs_last_5     37809 non-null  int64  \n",
      " 7   wickets_last_5  37809 non-null  int64  \n",
      " 8   total           37809 non-null  int64  \n",
      "dtypes: float64(1), int64(5), object(3)\n",
      "memory usage: 2.9+ MB\n"
     ]
    }
   ],
   "source": [
    "matches.info()"
   ]
  },
  {
   "cell_type": "code",
   "execution_count": 15,
   "id": "9b0a14aa",
   "metadata": {},
   "outputs": [],
   "source": [
    "# Converting the column 'date' from string into datetime object\n",
    "from datetime import datetime\n",
    "matches['date'] = matches['date'].apply(lambda x: datetime.strptime(x, '%m/%d/%Y'))"
   ]
  },
  {
   "cell_type": "code",
   "execution_count": 1,
   "id": "a0da2014",
   "metadata": {
    "scrolled": true
   },
   "outputs": [
    {
     "ename": "NameError",
     "evalue": "name 'matches' is not defined",
     "output_type": "error",
     "traceback": [
      "\u001b[1;31m---------------------------------------------------------------------------\u001b[0m",
      "\u001b[1;31mNameError\u001b[0m                                 Traceback (most recent call last)",
      "Input \u001b[1;32mIn [1]\u001b[0m, in \u001b[0;36m<cell line: 1>\u001b[1;34m()\u001b[0m\n\u001b[1;32m----> 1\u001b[0m \u001b[43mmatches\u001b[49m\u001b[38;5;241m.\u001b[39mdate\u001b[38;5;241m.\u001b[39mdtype\n",
      "\u001b[1;31mNameError\u001b[0m: name 'matches' is not defined"
     ]
    }
   ],
   "source": [
    "matches.date.dtype"
   ]
  },
  {
   "cell_type": "markdown",
   "id": "84de0588",
   "metadata": {},
   "source": [
    "# Data Preprocessing"
   ]
  },
  {
   "cell_type": "code",
   "execution_count": null,
   "id": "57b0b289",
   "metadata": {},
   "outputs": [],
   "source": [
    "# using OneHotEncoding to add categorial features that are main teams playing against each other , Bat_Team and Bowl_Team\n",
    "match_df = pd.get_dummies(data=matches, columns=['batting_team', 'bowling_team'])"
   ]
  },
  {
   "cell_type": "code",
   "execution_count": 18,
   "id": "48f3fe12",
   "metadata": {},
   "outputs": [
    {
     "data": {
      "text/html": [
       "<div>\n",
       "<style scoped>\n",
       "    .dataframe tbody tr th:only-of-type {\n",
       "        vertical-align: middle;\n",
       "    }\n",
       "\n",
       "    .dataframe tbody tr th {\n",
       "        vertical-align: top;\n",
       "    }\n",
       "\n",
       "    .dataframe thead th {\n",
       "        text-align: right;\n",
       "    }\n",
       "</style>\n",
       "<table border=\"1\" class=\"dataframe\">\n",
       "  <thead>\n",
       "    <tr style=\"text-align: right;\">\n",
       "      <th></th>\n",
       "      <th>date</th>\n",
       "      <th>runs</th>\n",
       "      <th>wickets</th>\n",
       "      <th>overs</th>\n",
       "      <th>runs_last_5</th>\n",
       "      <th>wickets_last_5</th>\n",
       "      <th>total</th>\n",
       "      <th>batting_team_Chennai Super Kings</th>\n",
       "      <th>batting_team_Delhi Capitals</th>\n",
       "      <th>batting_team_Gujarat Titans</th>\n",
       "      <th>...</th>\n",
       "      <th>bowling_team_Chennai Super Kings</th>\n",
       "      <th>bowling_team_Delhi Capitals</th>\n",
       "      <th>bowling_team_Gujarat Titans</th>\n",
       "      <th>bowling_team_Kings XI Punjab</th>\n",
       "      <th>bowling_team_Kolkata Knight Riders</th>\n",
       "      <th>bowling_team_Lucknow Super Giants</th>\n",
       "      <th>bowling_team_Mumbai Indians</th>\n",
       "      <th>bowling_team_Rajasthan Royals</th>\n",
       "      <th>bowling_team_Royal Challengers Bangalore</th>\n",
       "      <th>bowling_team_Sunrisers Hyderabad</th>\n",
       "    </tr>\n",
       "  </thead>\n",
       "  <tbody>\n",
       "    <tr>\n",
       "      <th>38</th>\n",
       "      <td>2008-04-18</td>\n",
       "      <td>62</td>\n",
       "      <td>1</td>\n",
       "      <td>6.1</td>\n",
       "      <td>55</td>\n",
       "      <td>1</td>\n",
       "      <td>222</td>\n",
       "      <td>0</td>\n",
       "      <td>0</td>\n",
       "      <td>0</td>\n",
       "      <td>...</td>\n",
       "      <td>0</td>\n",
       "      <td>0</td>\n",
       "      <td>0</td>\n",
       "      <td>0</td>\n",
       "      <td>0</td>\n",
       "      <td>0</td>\n",
       "      <td>0</td>\n",
       "      <td>0</td>\n",
       "      <td>1</td>\n",
       "      <td>0</td>\n",
       "    </tr>\n",
       "    <tr>\n",
       "      <th>39</th>\n",
       "      <td>2008-04-18</td>\n",
       "      <td>63</td>\n",
       "      <td>1</td>\n",
       "      <td>6.2</td>\n",
       "      <td>52</td>\n",
       "      <td>1</td>\n",
       "      <td>222</td>\n",
       "      <td>0</td>\n",
       "      <td>0</td>\n",
       "      <td>0</td>\n",
       "      <td>...</td>\n",
       "      <td>0</td>\n",
       "      <td>0</td>\n",
       "      <td>0</td>\n",
       "      <td>0</td>\n",
       "      <td>0</td>\n",
       "      <td>0</td>\n",
       "      <td>0</td>\n",
       "      <td>0</td>\n",
       "      <td>1</td>\n",
       "      <td>0</td>\n",
       "    </tr>\n",
       "    <tr>\n",
       "      <th>40</th>\n",
       "      <td>2008-04-18</td>\n",
       "      <td>64</td>\n",
       "      <td>1</td>\n",
       "      <td>6.3</td>\n",
       "      <td>47</td>\n",
       "      <td>1</td>\n",
       "      <td>222</td>\n",
       "      <td>0</td>\n",
       "      <td>0</td>\n",
       "      <td>0</td>\n",
       "      <td>...</td>\n",
       "      <td>0</td>\n",
       "      <td>0</td>\n",
       "      <td>0</td>\n",
       "      <td>0</td>\n",
       "      <td>0</td>\n",
       "      <td>0</td>\n",
       "      <td>0</td>\n",
       "      <td>0</td>\n",
       "      <td>1</td>\n",
       "      <td>0</td>\n",
       "    </tr>\n",
       "    <tr>\n",
       "      <th>41</th>\n",
       "      <td>2008-04-18</td>\n",
       "      <td>66</td>\n",
       "      <td>1</td>\n",
       "      <td>6.4</td>\n",
       "      <td>45</td>\n",
       "      <td>1</td>\n",
       "      <td>222</td>\n",
       "      <td>0</td>\n",
       "      <td>0</td>\n",
       "      <td>0</td>\n",
       "      <td>...</td>\n",
       "      <td>0</td>\n",
       "      <td>0</td>\n",
       "      <td>0</td>\n",
       "      <td>0</td>\n",
       "      <td>0</td>\n",
       "      <td>0</td>\n",
       "      <td>0</td>\n",
       "      <td>0</td>\n",
       "      <td>1</td>\n",
       "      <td>0</td>\n",
       "    </tr>\n",
       "    <tr>\n",
       "      <th>42</th>\n",
       "      <td>2008-04-18</td>\n",
       "      <td>67</td>\n",
       "      <td>1</td>\n",
       "      <td>6.5</td>\n",
       "      <td>46</td>\n",
       "      <td>1</td>\n",
       "      <td>222</td>\n",
       "      <td>0</td>\n",
       "      <td>0</td>\n",
       "      <td>0</td>\n",
       "      <td>...</td>\n",
       "      <td>0</td>\n",
       "      <td>0</td>\n",
       "      <td>0</td>\n",
       "      <td>0</td>\n",
       "      <td>0</td>\n",
       "      <td>0</td>\n",
       "      <td>0</td>\n",
       "      <td>0</td>\n",
       "      <td>1</td>\n",
       "      <td>0</td>\n",
       "    </tr>\n",
       "  </tbody>\n",
       "</table>\n",
       "<p>5 rows × 27 columns</p>\n",
       "</div>"
      ],
      "text/plain": [
       "         date  runs  wickets  overs  runs_last_5  wickets_last_5  total  \\\n",
       "38 2008-04-18    62        1    6.1           55               1    222   \n",
       "39 2008-04-18    63        1    6.2           52               1    222   \n",
       "40 2008-04-18    64        1    6.3           47               1    222   \n",
       "41 2008-04-18    66        1    6.4           45               1    222   \n",
       "42 2008-04-18    67        1    6.5           46               1    222   \n",
       "\n",
       "    batting_team_Chennai Super Kings  batting_team_Delhi Capitals  \\\n",
       "38                                 0                            0   \n",
       "39                                 0                            0   \n",
       "40                                 0                            0   \n",
       "41                                 0                            0   \n",
       "42                                 0                            0   \n",
       "\n",
       "    batting_team_Gujarat Titans  ...  bowling_team_Chennai Super Kings  \\\n",
       "38                            0  ...                                 0   \n",
       "39                            0  ...                                 0   \n",
       "40                            0  ...                                 0   \n",
       "41                            0  ...                                 0   \n",
       "42                            0  ...                                 0   \n",
       "\n",
       "    bowling_team_Delhi Capitals  bowling_team_Gujarat Titans  \\\n",
       "38                            0                            0   \n",
       "39                            0                            0   \n",
       "40                            0                            0   \n",
       "41                            0                            0   \n",
       "42                            0                            0   \n",
       "\n",
       "    bowling_team_Kings XI Punjab  bowling_team_Kolkata Knight Riders  \\\n",
       "38                             0                                   0   \n",
       "39                             0                                   0   \n",
       "40                             0                                   0   \n",
       "41                             0                                   0   \n",
       "42                             0                                   0   \n",
       "\n",
       "    bowling_team_Lucknow Super Giants  bowling_team_Mumbai Indians  \\\n",
       "38                                  0                            0   \n",
       "39                                  0                            0   \n",
       "40                                  0                            0   \n",
       "41                                  0                            0   \n",
       "42                                  0                            0   \n",
       "\n",
       "    bowling_team_Rajasthan Royals  bowling_team_Royal Challengers Bangalore  \\\n",
       "38                              0                                         1   \n",
       "39                              0                                         1   \n",
       "40                              0                                         1   \n",
       "41                              0                                         1   \n",
       "42                              0                                         1   \n",
       "\n",
       "    bowling_team_Sunrisers Hyderabad  \n",
       "38                                 0  \n",
       "39                                 0  \n",
       "40                                 0  \n",
       "41                                 0  \n",
       "42                                 0  \n",
       "\n",
       "[5 rows x 27 columns]"
      ]
     },
     "execution_count": 18,
     "metadata": {},
     "output_type": "execute_result"
    }
   ],
   "source": [
    "match_df.head()"
   ]
  },
  {
   "cell_type": "code",
   "execution_count": 19,
   "id": "480954e4",
   "metadata": {},
   "outputs": [
    {
     "data": {
      "text/plain": [
       "Index(['date', 'runs', 'wickets', 'overs', 'runs_last_5', 'wickets_last_5',\n",
       "       'total', 'batting_team_Chennai Super Kings',\n",
       "       'batting_team_Delhi Capitals', 'batting_team_Gujarat Titans',\n",
       "       'batting_team_Kings XI Punjab', 'batting_team_Kolkata Knight Riders',\n",
       "       'batting_team_Lucknow Super Giants', 'batting_team_Mumbai Indians',\n",
       "       'batting_team_Rajasthan Royals',\n",
       "       'batting_team_Royal Challengers Bangalore',\n",
       "       'batting_team_Sunrisers Hyderabad', 'bowling_team_Chennai Super Kings',\n",
       "       'bowling_team_Delhi Capitals', 'bowling_team_Gujarat Titans',\n",
       "       'bowling_team_Kings XI Punjab', 'bowling_team_Kolkata Knight Riders',\n",
       "       'bowling_team_Lucknow Super Giants', 'bowling_team_Mumbai Indians',\n",
       "       'bowling_team_Rajasthan Royals',\n",
       "       'bowling_team_Royal Challengers Bangalore',\n",
       "       'bowling_team_Sunrisers Hyderabad'],\n",
       "      dtype='object')"
      ]
     },
     "execution_count": 19,
     "metadata": {},
     "output_type": "execute_result"
    }
   ],
   "source": [
    "match_df.columns"
   ]
  },
  {
   "cell_type": "code",
   "execution_count": 20,
   "id": "b9e06291",
   "metadata": {},
   "outputs": [],
   "source": [
    "# Data Splitting:\n",
    "\n",
    "X_train = match_df.drop(labels='total',axis=1)[match_df['date'].dt.year <= 2016]\n",
    "X_test = match_df.drop(labels='total',axis=1)[match_df['date'].dt.year >= 2017]"
   ]
  },
  {
   "cell_type": "code",
   "execution_count": 21,
   "id": "667fc289",
   "metadata": {},
   "outputs": [],
   "source": [
    "y_train = match_df[match_df['date'].dt.year <= 2016]['total'].values\n",
    "y_test = match_df[match_df['date'].dt.year >= 2017]['total'].values"
   ]
  },
  {
   "cell_type": "code",
   "execution_count": 22,
   "id": "c4ba6f5d",
   "metadata": {},
   "outputs": [],
   "source": [
    "X_train.drop(labels='date',axis=True, inplace=True)\n",
    "X_test.drop(labels='date',axis=True, inplace=True)"
   ]
  },
  {
   "cell_type": "markdown",
   "id": "b91f7c14",
   "metadata": {},
   "source": [
    "<H1> Model Development"
   ]
  },
  {
   "cell_type": "markdown",
   "id": "2e46aad8",
   "metadata": {},
   "source": [
    "<H2>Linear Regression"
   ]
  },
  {
   "cell_type": "code",
   "execution_count": 23,
   "id": "b8d11d64",
   "metadata": {},
   "outputs": [
    {
     "data": {
      "text/plain": [
       "LinearRegression()"
      ]
     },
     "execution_count": 23,
     "metadata": {},
     "output_type": "execute_result"
    }
   ],
   "source": [
    "from sklearn.linear_model import LinearRegression\n",
    "reg = LinearRegression()\n",
    "reg.fit(X_train,y_train)"
   ]
  },
  {
   "cell_type": "code",
   "execution_count": 24,
   "id": "e033f6c1",
   "metadata": {},
   "outputs": [
    {
     "data": {
      "text/plain": [
       "0.6757883503217181"
      ]
     },
     "execution_count": 24,
     "metadata": {},
     "output_type": "execute_result"
    }
   ],
   "source": [
    "reg.score(X_train,y_train)"
   ]
  },
  {
   "cell_type": "code",
   "execution_count": 25,
   "id": "87cc527b",
   "metadata": {},
   "outputs": [
    {
     "data": {
      "text/plain": [
       "0.7566345920193004"
      ]
     },
     "execution_count": 25,
     "metadata": {},
     "output_type": "execute_result"
    }
   ],
   "source": [
    "reg.score(X_test,y_test)"
   ]
  },
  {
   "cell_type": "code",
   "execution_count": 26,
   "id": "57ff2905",
   "metadata": {},
   "outputs": [
    {
     "name": "stderr",
     "output_type": "stream",
     "text": [
      "C:\\Python310\\lib\\site-packages\\sklearn\\base.py:450: UserWarning: X does not have valid feature names, but LinearRegression was fitted with feature names\n",
      "  warnings.warn(\n"
     ]
    },
    {
     "data": {
      "text/plain": [
       "array([152.81495176])"
      ]
     },
     "execution_count": 26,
     "metadata": {},
     "output_type": "execute_result"
    }
   ],
   "source": [
    "reg.predict([[35,3,5,18,2,0,0,0,0,0,1,0,0,0,0,0,0,0,1,0,0,0,0,0,0]])"
   ]
  },
  {
   "cell_type": "markdown",
   "id": "ce07e13f",
   "metadata": {},
   "source": [
    "<H2> Ridge Regression"
   ]
  },
  {
   "cell_type": "code",
   "execution_count": 27,
   "id": "2e24b0aa",
   "metadata": {},
   "outputs": [],
   "source": [
    "from sklearn.linear_model import Ridge\n",
    "from sklearn.model_selection import GridSearchCV"
   ]
  },
  {
   "cell_type": "code",
   "execution_count": 28,
   "id": "9857a5e3",
   "metadata": {},
   "outputs": [
    {
     "name": "stderr",
     "output_type": "stream",
     "text": [
      "C:\\Python310\\lib\\site-packages\\sklearn\\linear_model\\_ridge.py:157: LinAlgWarning: Ill-conditioned matrix (rcond=1.60915e-23): result may not be accurate.\n",
      "  return linalg.solve(A, Xy, sym_pos=True, overwrite_a=True).T\n",
      "C:\\Python310\\lib\\site-packages\\sklearn\\linear_model\\_ridge.py:157: LinAlgWarning: Ill-conditioned matrix (rcond=1.59576e-23): result may not be accurate.\n",
      "  return linalg.solve(A, Xy, sym_pos=True, overwrite_a=True).T\n",
      "C:\\Python310\\lib\\site-packages\\sklearn\\linear_model\\_ridge.py:157: LinAlgWarning: Ill-conditioned matrix (rcond=1.58713e-23): result may not be accurate.\n",
      "  return linalg.solve(A, Xy, sym_pos=True, overwrite_a=True).T\n",
      "C:\\Python310\\lib\\site-packages\\sklearn\\linear_model\\_ridge.py:157: LinAlgWarning: Ill-conditioned matrix (rcond=1.60584e-23): result may not be accurate.\n",
      "  return linalg.solve(A, Xy, sym_pos=True, overwrite_a=True).T\n",
      "C:\\Python310\\lib\\site-packages\\sklearn\\linear_model\\_ridge.py:157: LinAlgWarning: Ill-conditioned matrix (rcond=1.59791e-18): result may not be accurate.\n",
      "  return linalg.solve(A, Xy, sym_pos=True, overwrite_a=True).T\n",
      "C:\\Python310\\lib\\site-packages\\sklearn\\linear_model\\_ridge.py:157: LinAlgWarning: Ill-conditioned matrix (rcond=1.53236e-18): result may not be accurate.\n",
      "  return linalg.solve(A, Xy, sym_pos=True, overwrite_a=True).T\n",
      "C:\\Python310\\lib\\site-packages\\sklearn\\linear_model\\_ridge.py:157: LinAlgWarning: Ill-conditioned matrix (rcond=1.59576e-18): result may not be accurate.\n",
      "  return linalg.solve(A, Xy, sym_pos=True, overwrite_a=True).T\n",
      "C:\\Python310\\lib\\site-packages\\sklearn\\linear_model\\_ridge.py:157: LinAlgWarning: Ill-conditioned matrix (rcond=1.53632e-18): result may not be accurate.\n",
      "  return linalg.solve(A, Xy, sym_pos=True, overwrite_a=True).T\n",
      "C:\\Python310\\lib\\site-packages\\sklearn\\linear_model\\_ridge.py:157: LinAlgWarning: Ill-conditioned matrix (rcond=1.50263e-18): result may not be accurate.\n",
      "  return linalg.solve(A, Xy, sym_pos=True, overwrite_a=True).T\n",
      "C:\\Python310\\lib\\site-packages\\sklearn\\linear_model\\_ridge.py:157: LinAlgWarning: Ill-conditioned matrix (rcond=1.53179e-18): result may not be accurate.\n",
      "  return linalg.solve(A, Xy, sym_pos=True, overwrite_a=True).T\n",
      "C:\\Python310\\lib\\site-packages\\sklearn\\linear_model\\_ridge.py:157: LinAlgWarning: Ill-conditioned matrix (rcond=1.58713e-18): result may not be accurate.\n",
      "  return linalg.solve(A, Xy, sym_pos=True, overwrite_a=True).T\n",
      "C:\\Python310\\lib\\site-packages\\sklearn\\linear_model\\_ridge.py:157: LinAlgWarning: Ill-conditioned matrix (rcond=1.60584e-18): result may not be accurate.\n",
      "  return linalg.solve(A, Xy, sym_pos=True, overwrite_a=True).T\n",
      "C:\\Python310\\lib\\site-packages\\sklearn\\linear_model\\_ridge.py:157: LinAlgWarning: Ill-conditioned matrix (rcond=1.54767e-18): result may not be accurate.\n",
      "  return linalg.solve(A, Xy, sym_pos=True, overwrite_a=True).T\n",
      "C:\\Python310\\lib\\site-packages\\sklearn\\linear_model\\_ridge.py:157: LinAlgWarning: Ill-conditioned matrix (rcond=1.55752e-18): result may not be accurate.\n",
      "  return linalg.solve(A, Xy, sym_pos=True, overwrite_a=True).T\n"
     ]
    },
    {
     "data": {
      "text/plain": [
       "GridSearchCV(cv=10, estimator=Ridge(),\n",
       "             param_grid={'alpha': [1e-15, 1e-10, 1e-08, 0.001, 0.01, 1, 5, 10,\n",
       "                                   20, 35, 50, 80, 100, 150, 200]},\n",
       "             scoring='neg_mean_squared_error')"
      ]
     },
     "execution_count": 28,
     "metadata": {},
     "output_type": "execute_result"
    }
   ],
   "source": [
    "ridge=Ridge()\n",
    "parameters={'alpha':[1e-15,1e-10,1e-8,1e-3,1e-2,1,5,10,20,35,50,80,100,150,200]}\n",
    "ridge_regressor=GridSearchCV(ridge,parameters,scoring='neg_mean_squared_error',cv=10)\n",
    "ridge_regressor.fit(X_train,y_train)"
   ]
  },
  {
   "cell_type": "code",
   "execution_count": 29,
   "id": "342e89ba",
   "metadata": {},
   "outputs": [
    {
     "name": "stdout",
     "output_type": "stream",
     "text": [
      "{'alpha': 200}\n",
      "-300.14107200063137\n"
     ]
    }
   ],
   "source": [
    "print(ridge_regressor.best_params_)\n",
    "print(ridge_regressor.best_score_)"
   ]
  },
  {
   "cell_type": "code",
   "execution_count": 30,
   "id": "0f9b2b18",
   "metadata": {},
   "outputs": [
    {
     "name": "stderr",
     "output_type": "stream",
     "text": [
      "C:\\Python310\\lib\\site-packages\\sklearn\\base.py:450: UserWarning: X does not have valid feature names, but Ridge was fitted with feature names\n",
      "  warnings.warn(\n"
     ]
    },
    {
     "data": {
      "text/plain": [
       "array([148.7152452])"
      ]
     },
     "execution_count": 30,
     "metadata": {},
     "output_type": "execute_result"
    }
   ],
   "source": [
    "ridge_regressor.predict([[35,3,5,18,2,0,0,0,1,0,0,0,0,0,0,0,0,0,0,1,0,0,0,0,0]])"
   ]
  },
  {
   "cell_type": "code",
   "execution_count": 31,
   "id": "5dac9a4c",
   "metadata": {},
   "outputs": [
    {
     "data": {
      "text/plain": [
       "-283.74945871384915"
      ]
     },
     "execution_count": 31,
     "metadata": {},
     "output_type": "execute_result"
    }
   ],
   "source": [
    "ridge_regressor.score(X_train,y_train)"
   ]
  },
  {
   "cell_type": "code",
   "execution_count": 32,
   "id": "987756c4",
   "metadata": {},
   "outputs": [
    {
     "data": {
      "text/plain": [
       "-224.6130656931391"
      ]
     },
     "execution_count": 32,
     "metadata": {},
     "output_type": "execute_result"
    }
   ],
   "source": [
    "ridge_regressor.score(X_test,y_test)"
   ]
  },
  {
   "cell_type": "code",
   "execution_count": 33,
   "id": "cacb1d85",
   "metadata": {},
   "outputs": [],
   "source": [
    "prediction=ridge_regressor.predict(X_test)"
   ]
  },
  {
   "cell_type": "code",
   "execution_count": 34,
   "id": "8b58b1c8",
   "metadata": {},
   "outputs": [
    {
     "name": "stderr",
     "output_type": "stream",
     "text": [
      "C:\\Python310\\lib\\site-packages\\seaborn\\distributions.py:2619: FutureWarning: `distplot` is a deprecated function and will be removed in a future version. Please adapt your code to use either `displot` (a figure-level function with similar flexibility) or `histplot` (an axes-level function for histograms).\n",
      "  warnings.warn(msg, FutureWarning)\n"
     ]
    },
    {
     "data": {
      "text/plain": [
       "<AxesSubplot:ylabel='Density'>"
      ]
     },
     "execution_count": 34,
     "metadata": {},
     "output_type": "execute_result"
    },
    {
     "data": {
      "image/png": "[encoded data removed]",
      "text/plain": [
       "<Figure size 432x288 with 1 Axes>"
      ]
     },
     "metadata": {
      "needs_background": "light"
     },
     "output_type": "display_data"
    }
   ],
   "source": [
    "sns.distplot(y_test-prediction)"
   ]
  },
  {
   "cell_type": "code",
   "execution_count": 35,
   "id": "34d9d759",
   "metadata": {},
   "outputs": [
    {
     "name": "stdout",
     "output_type": "stream",
     "text": [
      "MAE: 11.546063564965468\n",
      "MSE: 224.6130656931391\n",
      "RMSE: 14.987096639881225\n"
     ]
    }
   ],
   "source": [
    "from sklearn import metrics\n",
    "print('MAE:', metrics.mean_absolute_error(y_test, prediction))\n",
    "print('MSE:', metrics.mean_squared_error(y_test, prediction))\n",
    "print('RMSE:', np.sqrt(metrics.mean_squared_error(y_test, prediction)))"
   ]
  },
  {
   "cell_type": "code",
   "execution_count": 36,
   "id": "2e2753c3",
   "metadata": {},
   "outputs": [],
   "source": [
    "X1 = match_df.drop(labels='total',axis=1)\n",
    "X_train1 = match_df.drop(labels='total',axis=1)[match_df['date'].dt.year <= 2022]\n",
    "\n",
    "y1 = match_df[match_df['date'].dt.year <= 2022]['total'].values\n",
    "y_train1 = match_df[match_df['date'].dt.year <= 2022]['total'].values\n",
    "\n",
    "# Removing the 'date' column\n",
    "X1.drop(labels='date',axis=True, inplace=True)\n",
    "X_train1.drop(labels='date',axis=True, inplace=True)"
   ]
  },
  {
   "cell_type": "code",
   "execution_count": 37,
   "id": "7a92ad35",
   "metadata": {},
   "outputs": [
    {
     "data": {
      "text/plain": [
       "RandomForestRegressor(n_estimators=10, random_state=0)"
      ]
     },
     "execution_count": 37,
     "metadata": {},
     "output_type": "execute_result"
    }
   ],
   "source": [
    "from sklearn.ensemble import RandomForestRegressor\n",
    "regressor = RandomForestRegressor(n_estimators = 10, random_state = 0)\n",
    "regressor.fit(X1, y1)"
   ]
  },
  {
   "cell_type": "code",
   "execution_count": 38,
   "id": "75d7098e",
   "metadata": {},
   "outputs": [
    {
     "data": {
      "text/plain": [
       "0.9928297567289289"
      ]
     },
     "execution_count": 38,
     "metadata": {},
     "output_type": "execute_result"
    }
   ],
   "source": [
    "regressor.score(X_test,y_test)"
   ]
  },
  {
   "cell_type": "code",
   "execution_count": 39,
   "id": "0a7de030",
   "metadata": {},
   "outputs": [
    {
     "data": {
      "text/plain": [
       "MLPRegressor(activation='logistic', alpha=0.0056,\n",
       "             hidden_layer_sizes=(50, 60, 70, 80, 90, 100), max_fun=1007,\n",
       "             max_iter=1000, warm_start=True)"
      ]
     },
     "execution_count": 39,
     "metadata": {},
     "output_type": "execute_result"
    }
   ],
   "source": [
    "from sklearn.neural_network import MLPRegressor\n",
    "mlp = MLPRegressor(hidden_layer_sizes=(50,60,70,80,90,100), activation=\"logistic\", alpha=0.0056, max_iter=1000, warm_start=True, max_fun=1007)\n",
    "mlp.fit(X_train1,y_train1)"
   ]
  },
  {
   "cell_type": "code",
   "execution_count": 40,
   "id": "9ca51360",
   "metadata": {},
   "outputs": [
    {
     "data": {
      "text/plain": [
       "-0.03874282029644016"
      ]
     },
     "execution_count": 40,
     "metadata": {},
     "output_type": "execute_result"
    }
   ],
   "source": [
    "mlp.score(X_test,y_test)"
   ]
  },
  {
   "cell_type": "code",
   "execution_count": null,
   "id": "8977d0df",
   "metadata": {},
   "outputs": [],
   "source": []
  }
 ],
 "metadata": {
  "kernelspec": {
   "display_name": "Python 3 (ipykernel)",
   "language": "python",
   "name": "python3"
  },
  "language_info": {
   "codemirror_mode": {
    "name": "ipython",
    "version": 3
   },
   "file_extension": ".py",
   "mimetype": "text/x-python",
   "name": "python",
   "nbconvert_exporter": "python",
   "pygments_lexer": "ipython3",
   "version": "3.10.2"
  }
 },
 "nbformat": 4,
 "nbformat_minor": 5
}
